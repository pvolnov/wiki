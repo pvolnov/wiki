{
 "cells": [
  {
   "cell_type": "code",
   "execution_count": 2,
   "metadata": {},
   "outputs": [],
   "source": [
    "import json\n",
    "from tqdm import tqdm_notebook as tqdm"
   ]
  },
  {
   "cell_type": "code",
   "execution_count": 43,
   "metadata": {},
   "outputs": [],
   "source": [
    "SEQ_LEN = 64\n",
    "BATCH_SIZE = 16\n",
    "\n",
    "def get_batch(dataset):\n",
    "    i = 0\n",
    "    offset = 0\n",
    "    while i < len(dataset):\n",
    "        trains = []\n",
    "        targets = []\n",
    "        while len(trains) < BATCH_SIZE:\n",
    "            \n",
    "            sentense = dataset[i]\n",
    "            train = torch.LongTensor(sentense[offset:offset+SEQ_LEN]).view(-1, 1)\n",
    "            target = torch.LongTensor(sentense[offset + 1:offset + SEQ_LEN + 1]).view(-1, 1)\n",
    "            trains.append(train)\n",
    "            targets.append(target)\n",
    "            \n",
    "            offset+=1\n",
    "            if offset + SEQ_LEN == len(sentense):\n",
    "                offset = 0\n",
    "                i += 1\n",
    "\n",
    "        yield torch.stack(trains, dim=0), torch.stack(targets, dim=0)"
   ]
  },
  {
   "cell_type": "code",
   "execution_count": 44,
   "metadata": {},
   "outputs": [],
   "source": [
    "trains, targets = next(get_batch(dataset))"
   ]
  },
  {
   "cell_type": "code",
   "execution_count": 19,
   "metadata": {},
   "outputs": [],
   "source": [
    "def evaluate(model, char_to_idx, idx_to_char, start_text=' ', prediction_len=50, temp=0.3):\n",
    "    hidden = model.init_hidden()\n",
    "    idx_input = [char_to_idx[char] for char in start_text]\n",
    "    train = torch.LongTensor(idx_input).view(-1, 1, 1).to(device)\n",
    "    predicted_text = start_text\n",
    "    \n",
    "    _, hidden = model(train, hidden)\n",
    "        \n",
    "    inp = train[-1].view(-1, 1, 1)\n",
    "    \n",
    "    for i in range(prediction_len):\n",
    "        output, hidden = model(inp.to(device), hidden)\n",
    "        output_logits = output.cpu().data.view(-1)\n",
    "        p_next = F.softmax(output_logits / temp, dim=-1).detach().cpu().data.numpy()        \n",
    "        top_index = np.random.choice(len(char_to_idx), p=p_next)\n",
    "        inp = torch.LongTensor([top_index]).view(-1, 1, 1).to(device)\n",
    "        predicted_char = idx_to_char[top_index]\n",
    "        predicted_text += predicted_char\n",
    "    \n",
    "    return predicted_text"
   ]
  },
  {
   "cell_type": "code",
   "execution_count": 2,
   "metadata": {},
   "outputs": [],
   "source": [
    "# LSTM Model"
   ]
  },
  {
   "cell_type": "code",
   "execution_count": 20,
   "metadata": {},
   "outputs": [],
   "source": [
    "class TextRNN(nn.Module):\n",
    "    \n",
    "    def __init__(self, input_size, hidden_size, embedding_size, n_layers=1):\n",
    "        super(TextRNN, self).__init__()\n",
    "        \n",
    "        self.input_size = input_size\n",
    "        self.hidden_size = hidden_size\n",
    "        self.embedding_size = embedding_size\n",
    "        self.n_layers = n_layers\n",
    "\n",
    "        self.encoder = nn.Embedding(self.input_size, self.embedding_size)\n",
    "        # embeding chars to random vectors\n",
    "        self.lstm = nn.LSTM(self.embedding_size, self.hidden_size, self.n_layers)\n",
    "        # add LSTM layer\n",
    "        self.dropout = nn.Dropout(0.2)\n",
    "        self.fc = nn.Linear(self.hidden_size, self.input_size)\n",
    "        \n",
    "    def forward(self, x, hidden):\n",
    "        # shape: bach * sent_len * 1\n",
    "        x = self.encoder(x).squeeze(2)\n",
    "        # shape: bach * sent_len\n",
    "        out, (ht1, ct1) = self.lstm(x, hidden)\n",
    "        out = self.dropout(out)\n",
    "        x = self.fc(out)\n",
    "        return x, (ht1, ct1)\n",
    "    \n",
    "    def init_hidden(self, batch_size=1):\n",
    "        return (torch.zeros(self.n_layers, batch_size, self.hidden_size, requires_grad=True).to(device),\n",
    "               torch.zeros(self.n_layers, batch_size, self.hidden_size, requires_grad=True).to(device))"
   ]
  },
  {
   "cell_type": "code",
   "execution_count": 33,
   "metadata": {},
   "outputs": [
    {
     "data": {
      "application/vnd.jupyter.widget-view+json": {
       "model_id": "f2d600936b3a4929923647d6054dc4c3",
       "version_major": 2,
       "version_minor": 0
      },
      "text/plain": [
       "HBox(children=(IntProgress(value=0, max=500), HTML(value='')))"
      ]
     },
     "metadata": {},
     "output_type": "display_data"
    },
    {
     "name": "stdout",
     "output_type": "stream",
     "text": [
      "Loss: 2.891374125480652\n",
      " тро  те  тсо  и  ття сте     тее тее тш    тек    \n",
      "Loss: 1.496510820388794\n",
      " трясутся ит закк гремит так что стены трясутся итт\n",
      "Loss: 0.3398489391803741\n",
      " гремит внешний блок гремит так что стены трясутся \n",
      "Loss: 0.10416097484529019\n",
      " гремит внешний блок гремит так что стены трясутся \n",
      "Loss: 0.0462927708029747\n",
      " гремит внешний блок гремит так что стены трясутся \n",
      "Loss: 0.027348949536681176\n",
      " гремит внешний блок гремит так что стены трясутся \n",
      "Loss: 0.019744685031473638\n",
      " гремит внешний блок гремит так что стены трясутся \n",
      "Loss: 0.01567565105855465\n",
      " гремит внешний блок гремит так что стены трясутся \n",
      "Loss: 0.012662233617156744\n",
      " гремит внешний блок гремит так что стены трясутся \n",
      "Loss: 0.010584806306287647\n",
      " гремит внешний блок гремит так что стены трясутся \n"
     ]
    }
   ],
   "source": [
    "device = torch.device('cuda') if torch.cuda.is_available() else torch.device('cpu')\n",
    "model = TextRNN(input_size=len(idx_to_char), hidden_size=64, embedding_size=8, n_layers=2)\n",
    "model.to(device)\n",
    "\n",
    "criterion = nn.CrossEntropyLoss()\n",
    "optimizer = torch.optim.Adam(model.parameters(), lr=1e-2, amsgrad=True)\n",
    "scheduler = torch.optim.lr_scheduler.ReduceLROnPlateau(\n",
    "    optimizer, \n",
    "    patience=5, \n",
    "    verbose=True, \n",
    "    factor=0.5\n",
    ")\n",
    "\n",
    "n_epochs = 500\n",
    "loss_avg = []\n",
    "\n",
    "for epoch in tqdm(range(n_epochs)):\n",
    "    model.train()\n",
    "    train, target = next(get_batch(dataset))\n",
    "    train = train.permute(1, 0, 2).to(device)\n",
    "    target = target.permute(1, 0, 2).to(device)\n",
    "    hidden = model.init_hidden(BATCH_SIZE)\n",
    "\n",
    "    output, hidden = model(train, hidden)\n",
    "    loss = criterion(output.permute(1, 2, 0), target.squeeze(-1).permute(1, 0))\n",
    "    \n",
    "    loss.backward()\n",
    "    optimizer.step()\n",
    "    optimizer.zero_grad()\n",
    "    \n",
    "    loss_avg.append(loss.item())\n",
    "    if len(loss_avg) >= 50:\n",
    "        mean_loss = np.mean(loss_avg)\n",
    "        print(f'Loss: {mean_loss}')\n",
    "        scheduler.step(mean_loss)\n",
    "        loss_avg = []\n",
    "        model.eval()\n",
    "        predicted_text = evaluate(model, char_to_idx, idx_to_char)\n",
    "        print(predicted_text)"
   ]
  },
  {
   "cell_type": "code",
   "execution_count": 22,
   "metadata": {},
   "outputs": [],
   "source": [
    "torch.save(model.state_dict(), \"model1M\")"
   ]
  },
  {
   "cell_type": "code",
   "execution_count": 36,
   "metadata": {},
   "outputs": [
    {
     "name": "stdout",
     "output_type": "stream",
     "text": [
      "в машине плохотрясутся и это еще с закрытыми ото еще в ешний блок гремит так что стены трясутся и это еще с закрытыми ото еще в ешний блок гремит так что стены трясутся и это еще с закрытыми ото ещк сто стены трясу\n"
     ]
    }
   ],
   "source": [
    "start_text='в машине плохо'\n",
    "prediction_len=200\n",
    "temp=0.3\n",
    "\n",
    "hidden = model.init_hidden()\n",
    "idx_input = [char_to_idx[char] for char in start_text]\n",
    "train = torch.LongTensor(idx_input).view(-1, 1, 1).to(device)\n",
    "predicted_text = start_text\n",
    "\n",
    "_, hidden = model(train, hidden)\n",
    "\n",
    "inp = train[-1].view(-1, 1, 1)\n",
    "\n",
    "for i in range(prediction_len):\n",
    "    output, hidden = model(inp.to(device), hidden)\n",
    "    output_logits = output.cpu().data.view(-1)\n",
    "    p_next = F.softmax(output_logits / temp, dim=-1).detach().cpu().data.numpy()    \n",
    "    top_index = np.random.choice(len(char_to_idx), p=p_next)\n",
    "    inp = torch.LongTensor([top_index]).view(-1, 1, 1).to(device)\n",
    "    predicted_char = idx_to_char[top_index]\n",
    "    predicted_text += predicted_char\n",
    "\n",
    "print(predicted_text)"
   ]
  },
  {
   "cell_type": "code",
   "execution_count": null,
   "metadata": {},
   "outputs": [],
   "source": []
  }
 ],
 "metadata": {
  "kernelspec": {
   "display_name": "Python 3",
   "language": "python",
   "name": "python3"
  },
  "language_info": {
   "codemirror_mode": {
    "name": "ipython",
    "version": 3
   },
   "file_extension": ".py",
   "mimetype": "text/x-python",
   "name": "python",
   "nbconvert_exporter": "python",
   "pygments_lexer": "ipython3",
   "version": "3.7.3-final"
  },
  "toc": {
   "base_numbering": 1,
   "nav_menu": {},
   "number_sections": true,
   "sideBar": true,
   "skip_h1_title": false,
   "title_cell": "Table of Contents",
   "title_sidebar": "Contents",
   "toc_cell": false,
   "toc_position": {},
   "toc_section_display": true,
   "toc_window_display": false
  },
  "varInspector": {
   "cols": {
    "lenName": 16,
    "lenType": 16,
    "lenVar": 40
   },
   "kernels_config": {
    "python": {
     "delete_cmd_postfix": "",
     "delete_cmd_prefix": "del ",
     "library": "var_list.py",
     "varRefreshCmd": "print(var_dic_list())"
    },
    "r": {
     "delete_cmd_postfix": ") ",
     "delete_cmd_prefix": "rm(",
     "library": "var_list.r",
     "varRefreshCmd": "cat(var_dic_list()) "
    }
   },
   "types_to_exclude": [
    "module",
    "function",
    "builtin_function_or_method",
    "instance",
    "_Feature"
   ],
   "window_display": false
  }
 },
 "nbformat": 4,
 "nbformat_minor": 2
}